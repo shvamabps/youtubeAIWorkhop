{
  "nbformat": 4,
  "nbformat_minor": 0,
  "metadata": {
    "colab": {
      "name": "twitter_data.ipynb",
      "provenance": [],
      "collapsed_sections": [],
      "authorship_tag": "ABX9TyPWEIhKBAI0VRsafqn6imoT",
      "include_colab_link": true
    },
    "kernelspec": {
      "name": "python3",
      "display_name": "Python 3"
    }
  },
  "cells": [
    {
      "cell_type": "markdown",
      "metadata": {
        "id": "view-in-github",
        "colab_type": "text"
      },
      "source": [
        "<a href=\"https://colab.research.google.com/github/shvamabps/youtubeAIWorkhop/blob/master/twitter_data.ipynb\" target=\"_parent\"><img src=\"https://colab.research.google.com/assets/colab-badge.svg\" alt=\"Open In Colab\"/></a>"
      ]
    },
    {
      "cell_type": "code",
      "metadata": {
        "id": "qrWX9n0d3LHK",
        "colab_type": "code",
        "colab": {}
      },
      "source": [
        "# installing tweepy module\n",
        "# !pip install tweepy\n",
        "import tweepy\n",
        "# defining variables\n",
        "# consumer keys\n",
        "consumer_key =\"\"\n",
        "consumer_secret_key = \"\"\n",
        "# access details\n",
        "access_token = \"\"\n",
        "access_secret_token = \"\"\n",
        "# lets connect at first step auth by using consumer access details\n"
      ],
      "execution_count": 0,
      "outputs": []
    },
    {
      "cell_type": "code",
      "metadata": {
        "id": "wEjhnyI5_MSC",
        "colab_type": "code",
        "colab": {
          "base_uri": "https://localhost:8080/",
          "height": 1000
        },
        "outputId": "29acd94b-3efa-4bc5-ea67-17be7961bc1f"
      },
      "source": [
        "first_auth = tweepy.OAuthHandler(consumer_key,consumer_secret_key)\n",
        "# now setting second level of auth \n",
        "first_auth.set_access_token(access_token,access_secret_token)\n",
        "# pointing auth to database\n",
        "storage_api_connect = tweepy.API(first_auth) # now after this we can browse / search data from tweetes\n",
        "# now searching data as req and waiting for reply\n",
        "# tweet_data = storage_api_connect.search('corona',count = 20) \n",
        "#  apiurl = https://www.google.com/search?q='hello'\n",
        "\n",
        "\n",
        "\n",
        "# second method\n",
        "\n",
        "from textblob import TextBlob as TB# automated ay of sentimental analysis\n",
        "\n",
        "search_data=['corona'] # search list\n",
        "list_tweets = [] # tweet data store\n",
        "\n",
        "if len(search_data) >= 1:\n",
        "    for i in tweepy.Cursor(storage_api_connect.search,q=search_data[0]+\" -filter:retweets\", lang='en',result_type='recent').items(100) :\n",
        "        # a = i.text\n",
        "        analyse = TB(i.text)\n",
        "        print(analyse.sentiment)\n",
        "\n",
        "\n"
      ],
      "execution_count": 48,
      "outputs": [
        {
          "output_type": "stream",
          "text": [
            "Sentiment(polarity=0.0, subjectivity=0.0)\n",
            "Sentiment(polarity=0.0, subjectivity=0.0)\n",
            "Sentiment(polarity=-0.2916666666666667, subjectivity=0.5416666666666666)\n",
            "Sentiment(polarity=0.0, subjectivity=0.0)\n",
            "Sentiment(polarity=0.7, subjectivity=0.6000000000000001)\n",
            "Sentiment(polarity=0.0, subjectivity=0.0)\n",
            "Sentiment(polarity=0.0, subjectivity=0.0)\n",
            "Sentiment(polarity=0.0, subjectivity=0.0)\n",
            "Sentiment(polarity=0.0, subjectivity=0.0)\n",
            "Sentiment(polarity=0.022222222222222213, subjectivity=0.3944444444444445)\n",
            "Sentiment(polarity=0.3181818181818182, subjectivity=0.4772727272727273)\n",
            "Sentiment(polarity=0.15, subjectivity=0.6)\n",
            "Sentiment(polarity=0.0, subjectivity=0.0)\n",
            "Sentiment(polarity=-0.2, subjectivity=0.3625)\n",
            "Sentiment(polarity=0.0, subjectivity=0.0)\n",
            "Sentiment(polarity=0.2, subjectivity=0.2)\n",
            "Sentiment(polarity=-0.75, subjectivity=0.8)\n",
            "Sentiment(polarity=0.0, subjectivity=0.0)\n",
            "Sentiment(polarity=0.0, subjectivity=0.0)\n",
            "Sentiment(polarity=0.1, subjectivity=0.4)\n",
            "Sentiment(polarity=0.0, subjectivity=0.0)\n",
            "Sentiment(polarity=0.0, subjectivity=0.0)\n",
            "Sentiment(polarity=0.35, subjectivity=0.4)\n",
            "Sentiment(polarity=0.0, subjectivity=0.0)\n",
            "Sentiment(polarity=0.0, subjectivity=0.0)\n",
            "Sentiment(polarity=0.26666666666666666, subjectivity=0.7333333333333334)\n",
            "Sentiment(polarity=-0.04999999999999999, subjectivity=0.7)\n",
            "Sentiment(polarity=0.22727272727272727, subjectivity=0.5454545454545454)\n",
            "Sentiment(polarity=0.0, subjectivity=0.0)\n",
            "Sentiment(polarity=0.0, subjectivity=0.1)\n",
            "Sentiment(polarity=0.375, subjectivity=0.75)\n",
            "Sentiment(polarity=0.0, subjectivity=0.0)\n",
            "Sentiment(polarity=-0.8928571428571429, subjectivity=0.8571428571428571)\n",
            "Sentiment(polarity=0.0, subjectivity=0.0)\n",
            "Sentiment(polarity=-0.17499999999999993, subjectivity=0.6583333333333333)\n",
            "Sentiment(polarity=0.0, subjectivity=0.0)\n",
            "Sentiment(polarity=0.0, subjectivity=0.0)\n",
            "Sentiment(polarity=0.14285714285714285, subjectivity=0.26785714285714285)\n",
            "Sentiment(polarity=0.0, subjectivity=0.0)\n",
            "Sentiment(polarity=0.0, subjectivity=0.0)\n",
            "Sentiment(polarity=0.6000000000000001, subjectivity=0.9)\n",
            "Sentiment(polarity=-0.5, subjectivity=1.0)\n",
            "Sentiment(polarity=-0.175, subjectivity=0.36250000000000004)\n",
            "Sentiment(polarity=0.0, subjectivity=0.07692307692307693)\n",
            "Sentiment(polarity=0.0, subjectivity=1.0)\n",
            "Sentiment(polarity=-0.125, subjectivity=0.5)\n",
            "Sentiment(polarity=0.0, subjectivity=0.0)\n",
            "Sentiment(polarity=0.05, subjectivity=0.55)\n",
            "Sentiment(polarity=0.3125, subjectivity=0.2)\n",
            "Sentiment(polarity=0.0, subjectivity=0.0)\n",
            "Sentiment(polarity=-0.05000000000000001, subjectivity=0.5750000000000001)\n",
            "Sentiment(polarity=-0.1, subjectivity=0.65)\n",
            "Sentiment(polarity=0.049999999999999996, subjectivity=0.3499999999999999)\n",
            "Sentiment(polarity=-0.04999999999999999, subjectivity=0.4)\n",
            "Sentiment(polarity=0.0, subjectivity=0.0)\n",
            "Sentiment(polarity=0.5, subjectivity=0.5)\n",
            "Sentiment(polarity=0.0, subjectivity=0.0)\n",
            "Sentiment(polarity=0.25, subjectivity=1.0)\n",
            "Sentiment(polarity=0.7, subjectivity=0.9)\n",
            "Sentiment(polarity=-0.5, subjectivity=0.8500000000000001)\n",
            "Sentiment(polarity=-0.2, subjectivity=0.8)\n",
            "Sentiment(polarity=0.0, subjectivity=0.625)\n",
            "Sentiment(polarity=0.0, subjectivity=0.0)\n",
            "Sentiment(polarity=0.0, subjectivity=0.0)\n",
            "Sentiment(polarity=0.0, subjectivity=0.0)\n",
            "Sentiment(polarity=-0.4, subjectivity=0.7)\n",
            "Sentiment(polarity=0.13636363636363635, subjectivity=0.5)\n",
            "Sentiment(polarity=-0.7, subjectivity=0.8500000000000001)\n",
            "Sentiment(polarity=0.0, subjectivity=0.0)\n",
            "Sentiment(polarity=0.03333333333333333, subjectivity=0.06666666666666667)\n",
            "Sentiment(polarity=-0.35714285714285715, subjectivity=0.7285714285714285)\n",
            "Sentiment(polarity=0.0, subjectivity=0.0)\n",
            "Sentiment(polarity=0.04464285714285714, subjectivity=0.4017857142857143)\n",
            "Sentiment(polarity=0.2, subjectivity=0.5)\n",
            "Sentiment(polarity=0.08333333333333333, subjectivity=0.3333333333333333)\n",
            "Sentiment(polarity=0.0, subjectivity=0.0)\n",
            "Sentiment(polarity=0.1, subjectivity=0.3)\n",
            "Sentiment(polarity=0.0, subjectivity=0.0)\n",
            "Sentiment(polarity=0.0, subjectivity=0.0)\n",
            "Sentiment(polarity=0.5, subjectivity=0.6)\n",
            "Sentiment(polarity=0.0, subjectivity=0.0)\n",
            "Sentiment(polarity=0.0, subjectivity=0.0)\n",
            "Sentiment(polarity=0.0, subjectivity=0.0)\n",
            "Sentiment(polarity=0.04999999999999999, subjectivity=0.8)\n",
            "Sentiment(polarity=-0.05, subjectivity=0.05)\n",
            "Sentiment(polarity=0.0, subjectivity=0.0)\n",
            "Sentiment(polarity=0.0, subjectivity=0.0)\n",
            "Sentiment(polarity=0.8, subjectivity=0.9)\n",
            "Sentiment(polarity=-0.027777777777777807, subjectivity=0.3666666666666667)\n",
            "Sentiment(polarity=0.8, subjectivity=0.7)\n",
            "Sentiment(polarity=-0.7, subjectivity=0.8)\n",
            "Sentiment(polarity=0.25, subjectivity=0.25)\n",
            "Sentiment(polarity=0.0, subjectivity=0.0)\n",
            "Sentiment(polarity=0.5, subjectivity=1.0)\n",
            "Sentiment(polarity=0.0, subjectivity=0.0)\n",
            "Sentiment(polarity=0.0, subjectivity=0.0)\n",
            "Sentiment(polarity=0.0, subjectivity=0.0)\n",
            "Sentiment(polarity=0.0, subjectivity=0.0)\n",
            "Sentiment(polarity=0.4333333333333333, subjectivity=0.7333333333333333)\n",
            "Sentiment(polarity=0.0, subjectivity=0.0)\n"
          ],
          "name": "stdout"
        }
      ]
    },
    {
      "cell_type": "code",
      "metadata": {
        "id": "nBgye6Bk_uRx",
        "colab_type": "code",
        "colab": {}
      },
      "source": [
        ""
      ],
      "execution_count": 0,
      "outputs": []
    }
  ]
}