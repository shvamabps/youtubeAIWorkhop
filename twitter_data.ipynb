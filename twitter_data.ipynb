{
  "nbformat": 4,
  "nbformat_minor": 0,
  "metadata": {
    "colab": {
      "name": "twitter_data.ipynb",
      "provenance": [],
      "collapsed_sections": [],
      "authorship_tag": "ABX9TyMyGjDQAAnvKGcOfclaH8lQ",
      "include_colab_link": true
    },
    "kernelspec": {
      "name": "python3",
      "display_name": "Python 3"
    }
  },
  "cells": [
    {
      "cell_type": "markdown",
      "metadata": {
        "id": "view-in-github",
        "colab_type": "text"
      },
      "source": [
        "<a href=\"https://colab.research.google.com/github/shvamabps/youtubeAIWorkhop/blob/master/twitter_data.ipynb\" target=\"_parent\"><img src=\"https://colab.research.google.com/assets/colab-badge.svg\" alt=\"Open In Colab\"/></a>"
      ]
    },
    {
      "cell_type": "code",
      "metadata": {
        "id": "qrWX9n0d3LHK",
        "colab_type": "code",
        "colab": {}
      },
      "source": [
        "# installing tweepy module\n",
        "# !pip install tweepy\n",
        "import tweepy\n",
        "# defining variables\n",
        "# consumer keys\n",
        "consumer_key =\"\"\n",
        "consumer_secret_key = \"\"\n",
        "# access details\n",
        "access_token = \"\"\n",
        "access_secret_token = \"\"\n",
        "# lets connect at first step auth by using consumer access details\n"
      ],
      "execution_count": 0,
      "outputs": []
    },
    {
      "cell_type": "code",
      "metadata": {
        "id": "wEjhnyI5_MSC",
        "colab_type": "code",
        "colab": {}
      },
      "source": [
        "first_auth = tweepy.OAuthHandler(consumer_key,consumer_secret_key)\n",
        "# now setting second level of auth \n",
        "first_auth.set_access_token(access_token,access_secret_token)\n",
        "# pointing auth to database\n",
        "storage_api_connect = tweepy.API(first_auth) # now after this we can browse / search data from tweetes\n",
        "# now searching data as req and waiting for reply\n",
        "# tweet_data = storage_api_connect.search('corona',count = 20) \n",
        "#  apiurl = https://www.google.com/search?q='hello'\n",
        "\n",
        "search_data=['corona'] # search list\n",
        "list_tweets = [] # tweet data store\n",
        "\n",
        "if len(search_data) >= 1:\n",
        "    for i in tweepy.Cursor(storage_api_connect.search,q=search_data[0]+\" -filter:retweets\", lang='en',result_type='recent').items(100) :\n",
        "        a = i.text\n",
        "\n"
      ],
      "execution_count": 0,
      "outputs": []
    },
    {
      "cell_type": "code",
      "metadata": {
        "id": "nBgye6Bk_uRx",
        "colab_type": "code",
        "colab": {}
      },
      "source": [
        ""
      ],
      "execution_count": 0,
      "outputs": []
    }
  ]
}